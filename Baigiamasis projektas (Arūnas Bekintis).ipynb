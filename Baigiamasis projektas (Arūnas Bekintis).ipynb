{
 "cells": [
  {
   "cell_type": "markdown",
   "metadata": {},
   "source": [
    "# Baigiamasis projektas"
   ]
  },
  {
   "cell_type": "markdown",
   "metadata": {},
   "source": [
    "### Darbą atliko: Arūnas Bekintis"
   ]
  },
  {
   "cell_type": "markdown",
   "metadata": {},
   "source": [
    "# Darbo pavadinimas: Kickstarter duomenų bazės analizė"
   ]
  },
  {
   "cell_type": "markdown",
   "metadata": {
    "scrolled": true
   },
   "source": [
    "Šią duomenų bazę galima parsisiųsti iš čia (201801 versija):\n",
    "    https://www.kaggle.com/kemical/kickstarter-projects.\n",
    "Ši duomenų bazė susideda iš 378661 eilutės ir 15 stulpelių.\n",
    "Joje yra sukaupta informacija apie Kickstarter projektus, jų (ne-)sėkmę ir kiek pinigų buvo (ne-)sukaupta jiems įgyvendinti.\n",
    "Kickstarter'is, tai toks projektas, kurį galima pradėti puslapyje www.kickstarter.com.\n",
    "Tai yra tarsi naujas būdas pradėti verslą."
   ]
  },
  {
   "cell_type": "markdown",
   "metadata": {},
   "source": [
    "### Darbo eiga:"
   ]
  },
  {
   "cell_type": "markdown",
   "metadata": {},
   "source": [
    "Pradžioj įsikeliam naudojamas bibliotekas ir duomenų bazę, su kuria dirbsim:"
   ]
  },
  {
   "cell_type": "code",
   "execution_count": 1,
   "metadata": {},
   "outputs": [
    {
     "name": "stdout",
     "output_type": "stream",
     "text": [
      "                ID                                               name         category main_category currency    deadline     goal             launched  pledged     state  backers country  usd pledged  usd_pledged_real  usd_goal_real\n",
      "0       1000002330                    The Songs of Adelaide & Abullah           Poetry    Publishing      GBP  2015-10-09   1000.0  2015-08-11 12:12:28      0.0    failed        0      GB          0.0               0.0        1533.95\n",
      "1       1000003930      Greeting From Earth: ZGAC Arts Capsule For ET   Narrative Film  Film & Video      USD  2017-11-01  30000.0  2017-09-02 04:43:57   2421.0    failed       15      US        100.0            2421.0       30000.00\n",
      "2       1000004038                                     Where is Hank?   Narrative Film  Film & Video      USD  2013-02-26  45000.0  2013-01-12 00:20:50    220.0    failed        3      US        220.0             220.0       45000.00\n",
      "3       1000007540  ToshiCapital Rekordz Needs Help to Complete Album            Music         Music      USD  2012-04-16   5000.0  2012-03-17 03:24:11      1.0    failed        1      US          1.0               1.0        5000.00\n",
      "4       1000011046  Community Film Project: The Art of Neighborhoo...     Film & Video  Film & Video      USD  2015-08-29  19500.0  2015-07-04 08:35:03   1283.0  canceled       14      US       1283.0            1283.0       19500.00\n",
      "...            ...                                                ...              ...           ...      ...         ...      ...                  ...      ...       ...      ...     ...          ...               ...            ...\n",
      "378656   999976400  ChknTruk Nationwide Charity Drive 2014 (Canceled)      Documentary  Film & Video      USD  2014-10-17  50000.0  2014-09-17 02:35:30     25.0  canceled        1      US         25.0              25.0       50000.00\n",
      "378657   999977640                                          The Tribe   Narrative Film  Film & Video      USD  2011-07-19   1500.0  2011-06-22 03:35:14    155.0    failed        5      US        155.0             155.0        1500.00\n",
      "378658   999986353  Walls of Remedy- New lesbian Romantic Comedy f...   Narrative Film  Film & Video      USD  2010-08-16  15000.0  2010-07-01 19:40:30     20.0    failed        1      US         20.0              20.0       15000.00\n",
      "378659   999987933                           BioDefense Education Kit       Technology    Technology      USD  2016-02-13  15000.0  2016-01-13 18:13:53    200.0    failed        6      US        200.0             200.0       15000.00\n",
      "378660   999988282                  Nou Renmen Ayiti!  We Love Haiti!  Performance Art           Art      USD  2011-08-16   2000.0  2011-07-19 09:07:47    524.0    failed       17      US        524.0             524.0        2000.00\n",
      "\n",
      "[378661 rows x 15 columns]\n"
     ]
    }
   ],
   "source": [
    "import pandas as pd\n",
    "import numpy as np\n",
    "import matplotlib.pyplot as plt\n",
    "from sklearn.model_selection import train_test_split\n",
    "import seaborn as sns\n",
    "import statsmodels.api as sm\n",
    "from sklearn.metrics import confusion_matrix\n",
    "from sklearn.metrics import accuracy_score\n",
    "from sklearn.metrics import recall_score\n",
    "from sklearn.metrics import precision_score\n",
    "from sklearn.linear_model import LogisticRegression\n",
    "import warnings\n",
    "warnings.filterwarnings('ignore')\n",
    "from sklearn.metrics import r2_score\n",
    "from sklearn.neighbors import KNeighborsClassifier\n",
    "from sklearn.tree import DecisionTreeClassifier\n",
    "from sklearn.tree import plot_tree\n",
    "from sklearn.ensemble import RandomForestClassifier\n",
    "\n",
    "np.set_printoptions(suppress=True)\n",
    "pd.set_option('display.width', 10000)\n",
    "pd.set_option('display.max_columns', 15)\n",
    "\n",
    "filename = 'ks-projects-201801.csv'\n",
    "df = pd.read_csv(filename, encoding=\"iso8859_2\")\n",
    "\n",
    "print(df)"
   ]
  },
  {
   "cell_type": "markdown",
   "metadata": {},
   "source": [
    "Pirmiausia susitvarkom duomenų bazę: tikrinam ar yra null reikšmių."
   ]
  },
  {
   "cell_type": "code",
   "execution_count": 2,
   "metadata": {},
   "outputs": [
    {
     "data": {
      "text/plain": [
       "ID                     0\n",
       "name                   4\n",
       "category               0\n",
       "main_category          0\n",
       "currency               0\n",
       "deadline               0\n",
       "goal                   0\n",
       "launched               0\n",
       "pledged                0\n",
       "state                  0\n",
       "backers                0\n",
       "country                0\n",
       "usd pledged         3797\n",
       "usd_pledged_real       0\n",
       "usd_goal_real          0\n",
       "dtype: int64"
      ]
     },
     "execution_count": 2,
     "metadata": {},
     "output_type": "execute_result"
    }
   ],
   "source": [
    "df.isnull().sum()"
   ]
  },
  {
   "cell_type": "markdown",
   "metadata": {},
   "source": [
    "Tada jas ištrinam:"
   ]
  },
  {
   "cell_type": "code",
   "execution_count": 3,
   "metadata": {},
   "outputs": [
    {
     "data": {
      "text/plain": [
       "ID                  0\n",
       "name                0\n",
       "category            0\n",
       "main_category       0\n",
       "currency            0\n",
       "deadline            0\n",
       "goal                0\n",
       "launched            0\n",
       "pledged             0\n",
       "state               0\n",
       "backers             0\n",
       "country             0\n",
       "usd pledged         0\n",
       "usd_pledged_real    0\n",
       "usd_goal_real       0\n",
       "dtype: int64"
      ]
     },
     "execution_count": 3,
     "metadata": {},
     "output_type": "execute_result"
    }
   ],
   "source": [
    "df = df[df['name'].notnull() & df['usd pledged'].notnull()]\n",
    "df.isnull().sum()"
   ]
  },
  {
   "cell_type": "markdown",
   "metadata": {},
   "source": [
    "Taip pat pašalinam Kickstarter būsenas (state), kurios mūsų nedomina. Jas pervadinam:"
   ]
  },
  {
   "cell_type": "code",
   "execution_count": 4,
   "metadata": {},
   "outputs": [
    {
     "data": {
      "text/plain": [
       "Nesekmingi projektai    197611\n",
       "Sekmingi projektai      133851\n",
       "Name: state, dtype: int64"
      ]
     },
     "execution_count": 4,
     "metadata": {},
     "output_type": "execute_result"
    }
   ],
   "source": [
    "df = df[df['state'].isin(['failed', 'successful'])]\n",
    "df['state'].replace({'failed': 'Nesekmingi projektai', 'successful': 'Sekmingi projektai'}, inplace=True)\n",
    "df['state'].value_counts()"
   ]
  },
  {
   "cell_type": "markdown",
   "metadata": {},
   "source": [
    "Sutvarkom datų duomenų tipą:"
   ]
  },
  {
   "cell_type": "code",
   "execution_count": 5,
   "metadata": {},
   "outputs": [
    {
     "data": {
      "text/plain": [
       "launched    datetime64[ns]\n",
       "deadline    datetime64[ns]\n",
       "dtype: object"
      ]
     },
     "execution_count": 5,
     "metadata": {},
     "output_type": "execute_result"
    }
   ],
   "source": [
    "df = df.astype({'launched': 'datetime64'})\n",
    "df = df.astype({'deadline': 'datetime64'})\n",
    "df[['launched', 'deadline']].dtypes"
   ]
  },
  {
   "cell_type": "markdown",
   "metadata": {},
   "source": [
    "Apskaičiuojam laiką iki projekto pabaigos (deadline) ir sukuriam naują stulpelį:"
   ]
  },
  {
   "cell_type": "code",
   "execution_count": 6,
   "metadata": {},
   "outputs": [
    {
     "data": {
      "text/plain": [
       "0        58 days 11:47:32\n",
       "1        59 days 19:16:03\n",
       "2        44 days 23:39:10\n",
       "3        29 days 20:35:49\n",
       "5        34 days 10:21:33\n",
       "               ...       \n",
       "378654   29 days 01:51:38\n",
       "378657   26 days 20:24:46\n",
       "378658   45 days 04:19:30\n",
       "378659   30 days 05:46:07\n",
       "378660   27 days 14:52:13\n",
       "Name: laikas_iki_ks_pabaigos, Length: 331462, dtype: timedelta64[ns]"
      ]
     },
     "execution_count": 6,
     "metadata": {},
     "output_type": "execute_result"
    }
   ],
   "source": [
    "df['laikas_iki_ks_pabaigos'] = df['deadline'] - df['launched']\n",
    "df['laikas_iki_ks_pabaigos']"
   ]
  },
  {
   "cell_type": "markdown",
   "metadata": {},
   "source": [
    "Susitvarkom stulpelį taip, kad rodytų tik dienas ir dar kartą perziūrim\n",
    "visą DataFrame:"
   ]
  },
  {
   "cell_type": "code",
   "execution_count": 7,
   "metadata": {},
   "outputs": [
    {
     "name": "stdout",
     "output_type": "stream",
     "text": [
      "                ID                                               name         category main_category currency   deadline     goal  ...                 state  backers country  usd pledged usd_pledged_real  usd_goal_real  dienos_iki_ks_pabaigos\n",
      "0       1000002330                    The Songs of Adelaide & Abullah           Poetry    Publishing      GBP 2015-10-09   1000.0  ...  Nesekmingi projektai        0      GB          0.0              0.0        1533.95                      58\n",
      "1       1000003930      Greeting From Earth: ZGAC Arts Capsule For ET   Narrative Film  Film & Video      USD 2017-11-01  30000.0  ...  Nesekmingi projektai       15      US        100.0           2421.0       30000.00                      59\n",
      "2       1000004038                                     Where is Hank?   Narrative Film  Film & Video      USD 2013-02-26  45000.0  ...  Nesekmingi projektai        3      US        220.0            220.0       45000.00                      44\n",
      "3       1000007540  ToshiCapital Rekordz Needs Help to Complete Album            Music         Music      USD 2012-04-16   5000.0  ...  Nesekmingi projektai        1      US          1.0              1.0        5000.00                      29\n",
      "5       1000014025                               Monarch Espresso Bar      Restaurants          Food      USD 2016-04-01  50000.0  ...    Sekmingi projektai      224      US      52375.0          52375.0       50000.00                      34\n",
      "...            ...                                                ...              ...           ...      ...        ...      ...  ...                   ...      ...     ...          ...              ...            ...                     ...\n",
      "378654   999975836              Homemade fresh dog food, Cleveland OH      Small Batch          Food      USD 2017-04-19   6500.0  ...  Nesekmingi projektai        4      US          0.0            154.0        6500.00                      29\n",
      "378657   999977640                                          The Tribe   Narrative Film  Film & Video      USD 2011-07-19   1500.0  ...  Nesekmingi projektai        5      US        155.0            155.0        1500.00                      26\n",
      "378658   999986353  Walls of Remedy- New lesbian Romantic Comedy f...   Narrative Film  Film & Video      USD 2010-08-16  15000.0  ...  Nesekmingi projektai        1      US         20.0             20.0       15000.00                      45\n",
      "378659   999987933                           BioDefense Education Kit       Technology    Technology      USD 2016-02-13  15000.0  ...  Nesekmingi projektai        6      US        200.0            200.0       15000.00                      30\n",
      "378660   999988282                  Nou Renmen Ayiti!  We Love Haiti!  Performance Art           Art      USD 2011-08-16   2000.0  ...  Nesekmingi projektai       17      US        524.0            524.0        2000.00                      27\n",
      "\n",
      "[331462 rows x 16 columns]\n"
     ]
    }
   ],
   "source": [
    "tik_dienos = df['laikas_iki_ks_pabaigos'].dt.days\n",
    "df['dienos_iki_ks_pabaigos'] = tik_dienos\n",
    "df['dienos_iki_ks_pabaigos']\n",
    "df = df.drop('laikas_iki_ks_pabaigos', axis=1)\n",
    "print(df)"
   ]
  },
  {
   "cell_type": "markdown",
   "metadata": {},
   "source": [
    "Kadangi didžioji dalis duomenų yra iš Amerikos (US), tai likusias šalis pervadinu į 'other':"
   ]
  },
  {
   "cell_type": "code",
   "execution_count": 8,
   "metadata": {},
   "outputs": [],
   "source": [
    "df['country'] = df['country'].replace(['GB', 'CA', 'AU', 'NO', 'IT', 'DE',\n",
    "                                       'IE', 'MX', 'ES', 'SE', 'FR', 'NZ',\n",
    "                                       'CH', 'AT', 'BE', 'DK', 'HK', 'NL',\n",
    "                                       'LU', 'SG', 'JP'], 'other')"
   ]
  },
  {
   "cell_type": "markdown",
   "metadata": {},
   "source": [
    "Pirmiausia, man buvo įdomu pažiūrėti kiek buvo sėkmingų ir nesėkmingų projektų:"
   ]
  },
  {
   "cell_type": "code",
   "execution_count": 9,
   "metadata": {},
   "outputs": [
    {
     "data": {
      "text/plain": [
       "([<matplotlib.patches.Wedge at 0x21b28f638e0>,\n",
       "  <matplotlib.patches.Wedge at 0x21b21989370>],\n",
       " [Text(-1.0999836499358706, -0.005997488954565789, 'Nesekmingi projektai'),\n",
       "  Text(1.1999821635664043, 0.006542715223161999, 'Sekmingi projektai')],\n",
       " [Text(-0.6999895954137358, -0.0038165838801782286, '59.6%'),\n",
       "  Text(0.7999881090442695, 0.004361810148774665, '40.4%')])"
      ]
     },
     "execution_count": 9,
     "metadata": {},
     "output_type": "execute_result"
    },
    {
     "data": {
      "image/png": "[encoded data removed]",
      "text/plain": [
       "<Figure size 540x360 with 1 Axes>"
      ]
     },
     "metadata": {},
     "output_type": "display_data"
    }
   ],
   "source": [
    "plt.figure(figsize=(7.5, 5))\n",
    "plt.title('Kickstarter projektu sekmingumas', fontsize=16)\n",
    "plt.pie(x=df['state'].value_counts(),\n",
    "        labels=df['state'].value_counts().index,\n",
    "        autopct='%1.1f%%', pctdistance=0.7,\n",
    "        explode=(0, 0.1), startangle=73,\n",
    "        shadow=True, colors={'red', 'green'})"
   ]
  },
  {
   "cell_type": "markdown",
   "metadata": {},
   "source": [
    "Tada pažiūrėjau kokių kategorijų projektai yra populiariausi:"
   ]
  },
  {
   "cell_type": "code",
   "execution_count": 10,
   "metadata": {},
   "outputs": [
    {
     "data": {
      "text/plain": [
       "[Text(0, 0.5, '')]"
      ]
     },
     "execution_count": 10,
     "metadata": {},
     "output_type": "execute_result"
    },
    {
     "data": {
      "image/png": "[encoded data removed]",
      "text/plain": [
       "<Figure size 1080x360 with 1 Axes>"
      ]
     },
     "metadata": {
      "needs_background": "light"
     },
     "output_type": "display_data"
    }
   ],
   "source": [
    "plt.figure(figsize=(15, 5))\n",
    "plt.title('Kickstarter projektu kategorijos ir projektu kiekis', fontsize=16)\n",
    "plt.ylim(0, 60000)\n",
    "sns.barplot(x=df['main_category'].value_counts().index,\n",
    "            y=df['main_category'].value_counts(),\n",
    "            palette='flare').set(ylabel=None)"
   ]
  },
  {
   "cell_type": "markdown",
   "metadata": {},
   "source": [
    "Suskirsčiau projektus pagal šalis:"
   ]
  },
  {
   "cell_type": "code",
   "execution_count": 11,
   "metadata": {},
   "outputs": [
    {
     "data": {
      "text/plain": [
       "[Text(0, 0.5, '')]"
      ]
     },
     "execution_count": 11,
     "metadata": {},
     "output_type": "execute_result"
    },
    {
     "data": {
      "image/png": "[encoded data removed]",
      "text/plain": [
       "<Figure size 360x216 with 1 Axes>"
      ]
     },
     "metadata": {
      "needs_background": "light"
     },
     "output_type": "display_data"
    }
   ],
   "source": [
    "plt.figure(figsize=(5, 3))\n",
    "plt.title('Kickstarter projektu kiekis pagal salis', fontsize=16)\n",
    "plt.ylim(0, 270000)\n",
    "sns.barplot(x=df['country'].value_counts().index,\n",
    "            y=df['country'].value_counts(),\n",
    "            palette='viridis').set(ylabel=None)"
   ]
  },
  {
   "cell_type": "markdown",
   "metadata": {},
   "source": [
    "Pagal pinigų sumą:"
   ]
  },
  {
   "cell_type": "code",
   "execution_count": 12,
   "metadata": {},
   "outputs": [
    {
     "data": {
      "image/png": "[encoded data removed]",
      "text/plain": [
       "<Figure size 1224x360 with 1 Axes>"
      ]
     },
     "metadata": {
      "needs_background": "light"
     },
     "output_type": "display_data"
    }
   ],
   "source": [
    "plt.figure(figsize=(17, 5))\n",
    "plt.title('Projektu kategorijos, kurioms sukaupta daugiausia pinigu', fontsize=16)\n",
    "plt.ylim(0, 22000000)\n",
    "plt.scatter(df['main_category'], df['usd_pledged_real'], s=5, c='blue')\n",
    "plt.grid()"
   ]
  },
  {
   "cell_type": "markdown",
   "metadata": {},
   "source": [
    "Norėjau sužinoti kiek vidutiniškai gyvuoja projektai. Tam nubraižiau 2 grafikus:"
   ]
  },
  {
   "cell_type": "markdown",
   "metadata": {},
   "source": [
    "1:"
   ]
  },
  {
   "cell_type": "code",
   "execution_count": 13,
   "metadata": {},
   "outputs": [
    {
     "data": {
      "text/plain": [
       "<seaborn.axisgrid.FacetGrid at 0x21b268b1be0>"
      ]
     },
     "execution_count": 13,
     "metadata": {},
     "output_type": "execute_result"
    },
    {
     "data": {
      "image/png": "[encoded data removed]",
      "text/plain": [
       "<Figure size 360x360 with 1 Axes>"
      ]
     },
     "metadata": {
      "needs_background": "light"
     },
     "output_type": "display_data"
    }
   ],
   "source": [
    "ax1 = sns.displot(x='dienos_iki_ks_pabaigos', data=df, kind='kde', color='green')\n",
    "ax1.set(xlabel='Dienos iki projekto pabaigos', ylabel='Kartojimosi daznis',\n",
    "       title='Dienu iki projekto pabaigos pasikartojimas')"
   ]
  },
  {
   "cell_type": "markdown",
   "metadata": {},
   "source": [
    "2:"
   ]
  },
  {
   "cell_type": "code",
   "execution_count": 14,
   "metadata": {},
   "outputs": [
    {
     "data": {
      "text/plain": [
       "[Text(0.5, 0, 'Dienos iki projekto pabaigos'),\n",
       " Text(0.5, 1.0, 'Dienu iki projekto pabaigos pasikartojimas')]"
      ]
     },
     "execution_count": 14,
     "metadata": {},
     "output_type": "execute_result"
    },
    {
     "data": {
      "image/png": "[encoded data removed]",
      "text/plain": [
       "<Figure size 432x288 with 1 Axes>"
      ]
     },
     "metadata": {
      "needs_background": "light"
     },
     "output_type": "display_data"
    }
   ],
   "source": [
    "ax2 = sns.boxplot(x='dienos_iki_ks_pabaigos', data=df, color='green', linewidth=2, fliersize=2)\n",
    "ax2.set(xlabel='Dienos iki projekto pabaigos',\n",
    "       title='Dienu iki projekto pabaigos pasikartojimas')"
   ]
  },
  {
   "cell_type": "markdown",
   "metadata": {},
   "source": [
    "Kadangi pamačiau dienų pasiskirstymą, tai nubraižiau ir žmonių (backers) pasiskirstymą:"
   ]
  },
  {
   "cell_type": "code",
   "execution_count": 15,
   "metadata": {},
   "outputs": [
    {
     "data": {
      "text/plain": [
       "[Text(0.5, 0, 'Projektams aukojanciu zmoniu kiekis'),\n",
       " Text(0.5, 1.0, 'Projektams aukojanciu zmoniu pasiskirstymas')]"
      ]
     },
     "execution_count": 15,
     "metadata": {},
     "output_type": "execute_result"
    },
    {
     "data": {
      "image/png": "[encoded data removed]",
      "text/plain": [
       "<Figure size 432x288 with 1 Axes>"
      ]
     },
     "metadata": {
      "needs_background": "light"
     },
     "output_type": "display_data"
    }
   ],
   "source": [
    "ax3 = sns.boxplot(x='backers', data=df, color='blue', linewidth=1, fliersize=4)\n",
    "ax3.set(xlabel='Projektams aukojanciu zmoniu kiekis',\n",
    "       title='Projektams aukojanciu zmoniu pasiskirstymas')"
   ]
  },
  {
   "cell_type": "markdown",
   "metadata": {},
   "source": [
    "Iš aukščiau nubraižytų grafikų, pastebėjau, kad yra keletas projektų (duomenų), kurie labai įtakoja bendrą vaizdą.\n",
    "Dėl to nusprendžiau juos nufiltruoti. Taip pat, apskaičiuoju vidutinį aukotų pinigų kiekį ir jį suskirstau pagal kategorijas:"
   ]
  },
  {
   "cell_type": "code",
   "execution_count": 16,
   "metadata": {},
   "outputs": [],
   "source": [
    "df = df[df['backers'] < np.percentile(df['backers'], 97)]\n",
    "df = df[(df['usd_pledged_real'] > np.percentile(df['usd_pledged_real'], 2)) &\n",
    "        (df['usd_pledged_real'] < np.percentile(df['usd_pledged_real'], 98))]\n",
    "df['Average_pledge'] = df.groupby(df['main_category'])['usd_pledged_real'].transform('mean')"
   ]
  },
  {
   "cell_type": "markdown",
   "metadata": {},
   "source": [
    "Dabar galim žvilgtelt kaip tai įtakojo grafikus:"
   ]
  },
  {
   "cell_type": "code",
   "execution_count": 17,
   "metadata": {},
   "outputs": [
    {
     "data": {
      "text/plain": [
       "[Text(0, 0.5, '')]"
      ]
     },
     "execution_count": 17,
     "metadata": {},
     "output_type": "execute_result"
    },
    {
     "data": {
      "image/png": "[encoded data removed]",
      "text/plain": [
       "<Figure size 1080x360 with 1 Axes>"
      ]
     },
     "metadata": {
      "needs_background": "light"
     },
     "output_type": "display_data"
    }
   ],
   "source": [
    "plt.figure(figsize=(15, 5))\n",
    "plt.title('Projektu kategorijos pagal sukauptu pinigu vidurki', fontsize=16)\n",
    "plt.ylim(0, 5500)\n",
    "sns.barplot(x=df['main_category'].value_counts().index,\n",
    "            y=df['Average_pledge'].unique(),\n",
    "            palette='mako').set(ylabel=None)"
   ]
  },
  {
   "cell_type": "code",
   "execution_count": 18,
   "metadata": {},
   "outputs": [
    {
     "data": {
      "text/plain": [
       "[Text(0.5, 0, 'Projektams aukojanciu zmoniu kiekis'),\n",
       " Text(0.5, 1.0, 'Projektams aukojanciu zmoniu pasiskirstymas')]"
      ]
     },
     "execution_count": 18,
     "metadata": {},
     "output_type": "execute_result"
    },
    {
     "data": {
      "image/png": "[encoded data removed]",
      "text/plain": [
       "<Figure size 432x288 with 1 Axes>"
      ]
     },
     "metadata": {
      "needs_background": "light"
     },
     "output_type": "display_data"
    }
   ],
   "source": [
    "ax3 = sns.boxplot(x='backers', data=df, color='blue', linewidth=1, fliersize=4)\n",
    "ax3.set(xlabel='Projektams aukojanciu zmoniu kiekis',\n",
    "       title='Projektams aukojanciu zmoniu pasiskirstymas')"
   ]
  },
  {
   "cell_type": "markdown",
   "metadata": {},
   "source": [
    "Prieš pradedant braižyti logistinę regresiją, dar kartą sutvarkau duomenis:"
   ]
  },
  {
   "cell_type": "code",
   "execution_count": 19,
   "metadata": {},
   "outputs": [
    {
     "data": {
      "text/plain": [
       "0    158102\n",
       "1    118331\n",
       "Name: state, dtype: int64"
      ]
     },
     "execution_count": 19,
     "metadata": {},
     "output_type": "execute_result"
    }
   ],
   "source": [
    "df = df.drop('ID', axis=1)\n",
    "df['state'].replace({'Nesekmingi projektai': '0', 'Sekmingi projektai': '1'}, inplace=True)\n",
    "df['state'].value_counts()"
   ]
  },
  {
   "cell_type": "markdown",
   "metadata": {},
   "source": [
    "Regresijos modelis:"
   ]
  },
  {
   "cell_type": "code",
   "execution_count": 20,
   "metadata": {},
   "outputs": [
    {
     "name": "stdout",
     "output_type": "stream",
     "text": [
      "Optimization terminated successfully.\n",
      "         Current function value: 0.306398\n",
      "         Iterations 12\n"
     ]
    },
    {
     "data": {
      "text/html": [
       "<table class=\"simpletable\">\n",
       "<caption>Logit Regression Results</caption>\n",
       "<tr>\n",
       "  <th>Dep. Variable:</th>         <td>state</td>      <th>  No. Observations:  </th>   <td>193503</td>   \n",
       "</tr>\n",
       "<tr>\n",
       "  <th>Model:</th>                 <td>Logit</td>      <th>  Df Residuals:      </th>   <td>193503</td>   \n",
       "</tr>\n",
       "<tr>\n",
       "  <th>Method:</th>                 <td>MLE</td>       <th>  Df Model:          </th>   <td>    -1</td>   \n",
       "</tr>\n",
       "<tr>\n",
       "  <th>Date:</th>            <td>Wed, 16 Dec 2020</td> <th>  Pseudo R-squ.:     </th>   <td>0.5514</td>   \n",
       "</tr>\n",
       "<tr>\n",
       "  <th>Time:</th>                <td>17:07:18</td>     <th>  Log-Likelihood:    </th>  <td> -59289.</td>  \n",
       "</tr>\n",
       "<tr>\n",
       "  <th>converged:</th>             <td>True</td>       <th>  LL-Null:           </th> <td>-1.3215e+05</td>\n",
       "</tr>\n",
       "<tr>\n",
       "  <th>Covariance Type:</th>     <td>nonrobust</td>    <th>  LLR p-value:       </th>   <td>   nan</td>   \n",
       "</tr>\n",
       "</table>\n",
       "<table class=\"simpletable\">\n",
       "<tr>\n",
       "             <td></td>               <th>coef</th>     <th>std err</th>      <th>z</th>      <th>P>|z|</th>  <th>[0.025</th>    <th>0.975]</th>  \n",
       "</tr>\n",
       "<tr>\n",
       "  <th>const</th>                  <td>   -0.3183</td> <td>    0.020</td> <td>  -16.245</td> <td> 0.000</td> <td>   -0.357</td> <td>   -0.280</td>\n",
       "</tr>\n",
       "<tr>\n",
       "  <th>backers</th>                <td>    0.0707</td> <td>    0.000</td> <td>  181.424</td> <td> 0.000</td> <td>    0.070</td> <td>    0.071</td>\n",
       "</tr>\n",
       "<tr>\n",
       "  <th>usd_goal_real</th>          <td>   -0.0004</td> <td>  2.5e-06</td> <td> -153.451</td> <td> 0.000</td> <td>   -0.000</td> <td>   -0.000</td>\n",
       "</tr>\n",
       "<tr>\n",
       "  <th>dienos_iki_ks_pabaigos</th> <td>   -0.0093</td> <td>    0.001</td> <td>  -16.674</td> <td> 0.000</td> <td>   -0.010</td> <td>   -0.008</td>\n",
       "</tr>\n",
       "</table><br/><br/>Possibly complete quasi-separation: A fraction 0.17 of observations can be<br/>perfectly predicted. This might indicate that there is complete<br/>quasi-separation. In this case some parameters will not be identified."
      ],
      "text/plain": [
       "<class 'statsmodels.iolib.summary.Summary'>\n",
       "\"\"\"\n",
       "                           Logit Regression Results                           \n",
       "==============================================================================\n",
       "Dep. Variable:                  state   No. Observations:               193503\n",
       "Model:                          Logit   Df Residuals:                   193503\n",
       "Method:                           MLE   Df Model:                           -1\n",
       "Date:                Wed, 16 Dec 2020   Pseudo R-squ.:                  0.5514\n",
       "Time:                        17:07:18   Log-Likelihood:                -59289.\n",
       "converged:                       True   LL-Null:                   -1.3215e+05\n",
       "Covariance Type:            nonrobust   LLR p-value:                       nan\n",
       "==========================================================================================\n",
       "                             coef    std err          z      P>|z|      [0.025      0.975]\n",
       "------------------------------------------------------------------------------------------\n",
       "const                     -0.3183      0.020    -16.245      0.000      -0.357      -0.280\n",
       "backers                    0.0707      0.000    181.424      0.000       0.070       0.071\n",
       "usd_goal_real             -0.0004    2.5e-06   -153.451      0.000      -0.000      -0.000\n",
       "dienos_iki_ks_pabaigos    -0.0093      0.001    -16.674      0.000      -0.010      -0.008\n",
       "==========================================================================================\n",
       "\n",
       "Possibly complete quasi-separation: A fraction 0.17 of observations can be\n",
       "perfectly predicted. This might indicate that there is complete\n",
       "quasi-separation. In this case some parameters will not be identified.\n",
       "\"\"\""
      ]
     },
     "execution_count": 20,
     "metadata": {},
     "output_type": "execute_result"
    }
   ],
   "source": [
    "xTrain, xTest, yTrain, yTest = train_test_split(df[['backers',\n",
    "                                                    'usd_goal_real', 'dienos_iki_ks_pabaigos']],\n",
    "                                                df['state'], test_size=0.3, random_state=42)\n",
    "xTrain = sm.add_constant(xTrain)\n",
    "xTest = sm.add_constant(xTest)\n",
    "\n",
    "sm_model = sm.Logit(yTrain.astype(float), xTrain.astype(float)).fit()\n",
    "sm_model.summary()"
   ]
  },
  {
   "cell_type": "markdown",
   "metadata": {},
   "source": [
    "Koreliacija:"
   ]
  },
  {
   "cell_type": "code",
   "execution_count": 21,
   "metadata": {},
   "outputs": [
    {
     "data": {
      "text/html": [
       "<div>\n",
       "<style scoped>\n",
       "    .dataframe tbody tr th:only-of-type {\n",
       "        vertical-align: middle;\n",
       "    }\n",
       "\n",
       "    .dataframe tbody tr th {\n",
       "        vertical-align: top;\n",
       "    }\n",
       "\n",
       "    .dataframe thead th {\n",
       "        text-align: right;\n",
       "    }\n",
       "</style>\n",
       "<table border=\"1\" class=\"dataframe\">\n",
       "  <thead>\n",
       "    <tr style=\"text-align: right;\">\n",
       "      <th></th>\n",
       "      <th>goal</th>\n",
       "      <th>pledged</th>\n",
       "      <th>backers</th>\n",
       "      <th>usd pledged</th>\n",
       "      <th>usd_pledged_real</th>\n",
       "      <th>usd_goal_real</th>\n",
       "      <th>dienos_iki_ks_pabaigos</th>\n",
       "      <th>Average_pledge</th>\n",
       "    </tr>\n",
       "  </thead>\n",
       "  <tbody>\n",
       "    <tr>\n",
       "      <th>goal</th>\n",
       "      <td>1.000000</td>\n",
       "      <td>0.011390</td>\n",
       "      <td>-0.011984</td>\n",
       "      <td>-0.005447</td>\n",
       "      <td>-0.006136</td>\n",
       "      <td>0.945664</td>\n",
       "      <td>0.022172</td>\n",
       "      <td>0.005394</td>\n",
       "    </tr>\n",
       "    <tr>\n",
       "      <th>pledged</th>\n",
       "      <td>0.011390</td>\n",
       "      <td>1.000000</td>\n",
       "      <td>0.441854</td>\n",
       "      <td>0.478641</td>\n",
       "      <td>0.572171</td>\n",
       "      <td>-0.003495</td>\n",
       "      <td>-0.000864</td>\n",
       "      <td>0.077367</td>\n",
       "    </tr>\n",
       "    <tr>\n",
       "      <th>backers</th>\n",
       "      <td>-0.011984</td>\n",
       "      <td>0.441854</td>\n",
       "      <td>1.000000</td>\n",
       "      <td>0.692138</td>\n",
       "      <td>0.774127</td>\n",
       "      <td>-0.011610</td>\n",
       "      <td>-0.041114</td>\n",
       "      <td>0.122097</td>\n",
       "    </tr>\n",
       "    <tr>\n",
       "      <th>usd pledged</th>\n",
       "      <td>-0.005447</td>\n",
       "      <td>0.478641</td>\n",
       "      <td>0.692138</td>\n",
       "      <td>1.000000</td>\n",
       "      <td>0.894626</td>\n",
       "      <td>-0.004275</td>\n",
       "      <td>0.005914</td>\n",
       "      <td>0.110859</td>\n",
       "    </tr>\n",
       "    <tr>\n",
       "      <th>usd_pledged_real</th>\n",
       "      <td>-0.006136</td>\n",
       "      <td>0.572171</td>\n",
       "      <td>0.774127</td>\n",
       "      <td>0.894626</td>\n",
       "      <td>1.000000</td>\n",
       "      <td>-0.005451</td>\n",
       "      <td>-0.007137</td>\n",
       "      <td>0.125920</td>\n",
       "    </tr>\n",
       "    <tr>\n",
       "      <th>usd_goal_real</th>\n",
       "      <td>0.945664</td>\n",
       "      <td>-0.003495</td>\n",
       "      <td>-0.011610</td>\n",
       "      <td>-0.004275</td>\n",
       "      <td>-0.005451</td>\n",
       "      <td>1.000000</td>\n",
       "      <td>0.022707</td>\n",
       "      <td>0.005007</td>\n",
       "    </tr>\n",
       "    <tr>\n",
       "      <th>dienos_iki_ks_pabaigos</th>\n",
       "      <td>0.022172</td>\n",
       "      <td>-0.000864</td>\n",
       "      <td>-0.041114</td>\n",
       "      <td>0.005914</td>\n",
       "      <td>-0.007137</td>\n",
       "      <td>0.022707</td>\n",
       "      <td>1.000000</td>\n",
       "      <td>0.029385</td>\n",
       "    </tr>\n",
       "    <tr>\n",
       "      <th>Average_pledge</th>\n",
       "      <td>0.005394</td>\n",
       "      <td>0.077367</td>\n",
       "      <td>0.122097</td>\n",
       "      <td>0.110859</td>\n",
       "      <td>0.125920</td>\n",
       "      <td>0.005007</td>\n",
       "      <td>0.029385</td>\n",
       "      <td>1.000000</td>\n",
       "    </tr>\n",
       "  </tbody>\n",
       "</table>\n",
       "</div>"
      ],
      "text/plain": [
       "                            goal   pledged   backers  usd pledged  usd_pledged_real  usd_goal_real  dienos_iki_ks_pabaigos  Average_pledge\n",
       "goal                    1.000000  0.011390 -0.011984    -0.005447         -0.006136       0.945664                0.022172        0.005394\n",
       "pledged                 0.011390  1.000000  0.441854     0.478641          0.572171      -0.003495               -0.000864        0.077367\n",
       "backers                -0.011984  0.441854  1.000000     0.692138          0.774127      -0.011610               -0.041114        0.122097\n",
       "usd pledged            -0.005447  0.478641  0.692138     1.000000          0.894626      -0.004275                0.005914        0.110859\n",
       "usd_pledged_real       -0.006136  0.572171  0.774127     0.894626          1.000000      -0.005451               -0.007137        0.125920\n",
       "usd_goal_real           0.945664 -0.003495 -0.011610    -0.004275         -0.005451       1.000000                0.022707        0.005007\n",
       "dienos_iki_ks_pabaigos  0.022172 -0.000864 -0.041114     0.005914         -0.007137       0.022707                1.000000        0.029385\n",
       "Average_pledge          0.005394  0.077367  0.122097     0.110859          0.125920       0.005007                0.029385        1.000000"
      ]
     },
     "execution_count": 21,
     "metadata": {},
     "output_type": "execute_result"
    }
   ],
   "source": [
    "df.corr()"
   ]
  },
  {
   "cell_type": "code",
   "execution_count": 22,
   "metadata": {},
   "outputs": [
    {
     "data": {
      "text/plain": [
       "<AxesSubplot:>"
      ]
     },
     "execution_count": 22,
     "metadata": {},
     "output_type": "execute_result"
    },
    {
     "data": {
      "image/png": "[encoded data removed]",
      "text/plain": [
       "<Figure size 432x288 with 2 Axes>"
      ]
     },
     "metadata": {
      "needs_background": "light"
     },
     "output_type": "display_data"
    }
   ],
   "source": [
    "sns.heatmap(df.corr())"
   ]
  },
  {
   "cell_type": "markdown",
   "metadata": {},
   "source": [
    "Taip pat pavaizdavau Confusion Matrix:"
   ]
  },
  {
   "cell_type": "code",
   "execution_count": 23,
   "metadata": {},
   "outputs": [
    {
     "data": {
      "text/plain": [
       "array([[0.90040876, 0.08512941],\n",
       "       [0.09959124, 0.91487059]])"
      ]
     },
     "execution_count": 23,
     "metadata": {},
     "output_type": "execute_result"
    }
   ],
   "source": [
    "y_estimates = round(sm_model.predict(xTest))\n",
    "confusion_matrix(yTest.astype(float), y_estimates.astype(float), normalize='pred')"
   ]
  },
  {
   "cell_type": "markdown",
   "metadata": {},
   "source": [
    "Accuracy score:"
   ]
  },
  {
   "cell_type": "code",
   "execution_count": 24,
   "metadata": {},
   "outputs": [
    {
     "data": {
      "text/plain": [
       "0.9062100566743037"
      ]
     },
     "execution_count": 24,
     "metadata": {},
     "output_type": "execute_result"
    }
   ],
   "source": [
    "accuracy_score(yTest.astype(float), y_estimates.astype(float))"
   ]
  },
  {
   "cell_type": "markdown",
   "metadata": {},
   "source": [
    "Recall score:"
   ]
  },
  {
   "cell_type": "code",
   "execution_count": 25,
   "metadata": {},
   "outputs": [
    {
     "data": {
      "text/plain": [
       "array([0.94044039, 0.86020746])"
      ]
     },
     "execution_count": 25,
     "metadata": {},
     "output_type": "execute_result"
    }
   ],
   "source": [
    "recall_score(yTest.astype(float), y_estimates.astype(float), average=None)"
   ]
  },
  {
   "cell_type": "markdown",
   "metadata": {},
   "source": [
    "Precision score:"
   ]
  },
  {
   "cell_type": "code",
   "execution_count": 26,
   "metadata": {},
   "outputs": [
    {
     "data": {
      "text/plain": [
       "array([0.90040876, 0.91487059])"
      ]
     },
     "execution_count": 26,
     "metadata": {},
     "output_type": "execute_result"
    }
   ],
   "source": [
    "precision_score(yTest.astype(float), y_estimates.astype(float), average=None)"
   ]
  },
  {
   "cell_type": "markdown",
   "metadata": {},
   "source": [
    "Regresijos modelis, užrašytas kitaip:"
   ]
  },
  {
   "cell_type": "code",
   "execution_count": 27,
   "metadata": {},
   "outputs": [
    {
     "name": "stdout",
     "output_type": "stream",
     "text": [
      "R:  0.6297077646194978\n"
     ]
    }
   ],
   "source": [
    "X = df[['dienos_iki_ks_pabaigos', 'usd_goal_real', 'backers']]\n",
    "Y = df['state']\n",
    "train = df[:(int((len(df)*0.3)))]\n",
    "test = df[(int((len(df)*0.3))):]\n",
    "Log1 = LogisticRegression()\n",
    "train_x = np.array(train[['dienos_iki_ks_pabaigos', 'usd_goal_real', 'backers']])\n",
    "train_y = np.array(train['state'])\n",
    "Log1.fit(train_x, train_y)\n",
    "test_x = np.array(test[['dienos_iki_ks_pabaigos', 'usd_goal_real', 'backers']])\n",
    "test_y = np.array(test['state'])\n",
    "#spejimas\n",
    "state_pred = Log1.predict(test_x)\n",
    "R = r2_score(test_y, state_pred)\n",
    "print('R: ', R)"
   ]
  },
  {
   "cell_type": "markdown",
   "metadata": {},
   "source": [
    "KNN modelis:"
   ]
  },
  {
   "cell_type": "code",
   "execution_count": 28,
   "metadata": {},
   "outputs": [
    {
     "name": "stdout",
     "output_type": "stream",
     "text": [
      "0.12643193054383214\n"
     ]
    }
   ],
   "source": [
    "xTrain, xTest, yTrain, yTest = train_test_split(df[['dienos_iki_ks_pabaigos',\n",
    "                                                'usd_goal_real', 'backers']],\n",
    "                                                df['state'], test_size=0.3, random_state=100)\n",
    "knn = KNeighborsClassifier(n_neighbors=2)\n",
    "knn.fit(xTrain, yTrain)\n",
    "yPred = knn.predict(xTest)\n",
    "conf_m = confusion_matrix(yTest, yPred)\n",
    "tikslumas = (conf_m[1, 0]+conf_m[0, 1])/(conf_m.sum())\n",
    "print(tikslumas)"
   ]
  },
  {
   "cell_type": "markdown",
   "metadata": {},
   "source": [
    "Decision tree modelis:"
   ]
  },
  {
   "cell_type": "code",
   "execution_count": 29,
   "metadata": {},
   "outputs": [
    {
     "name": "stdout",
     "output_type": "stream",
     "text": [
      "0.1196792475581816\n"
     ]
    }
   ],
   "source": [
    "xTrain, xTest, yTrain, yTest = train_test_split(df[['dienos_iki_ks_pabaigos',\n",
    "                                                'usd_goal_real', 'backers']],\n",
    "                                                df['state'], test_size=0.3, random_state=100)\n",
    "model = DecisionTreeClassifier(max_depth=3)\n",
    "model.fit(xTrain, yTrain)\n",
    "\n",
    "yPred = model.predict(xTest)\n",
    "conf_m = confusion_matrix(yTest, yPred)\n",
    "tikslumas = (conf_m[1, 0]+conf_m[0, 1])/(conf_m.sum())\n",
    "print(tikslumas)"
   ]
  },
  {
   "cell_type": "code",
   "execution_count": 30,
   "metadata": {},
   "outputs": [
    {
     "data": {
      "text/plain": [
       "[Text(167.4, 190.26, 'X[2] <= 17.5\\ngini = 0.49\\nsamples = 193503\\nvalue = [110584, 82919]'),\n",
       " Text(83.7, 135.9, 'X[1] <= 758.895\\ngini = 0.192\\nsamples = 94699\\nvalue = [84512, 10187]'),\n",
       " Text(41.85, 81.53999999999999, 'X[2] <= 6.5\\ngini = 0.498\\nsamples = 14722\\nvalue = [7801, 6921]'),\n",
       " Text(20.925, 27.180000000000007, 'gini = 0.328\\nsamples = 8470\\nvalue = [6719, 1751]'),\n",
       " Text(62.775000000000006, 27.180000000000007, 'gini = 0.286\\nsamples = 6252\\nvalue = [1082, 5170]'),\n",
       " Text(125.55000000000001, 81.53999999999999, 'X[2] <= 10.5\\ngini = 0.078\\nsamples = 79977\\nvalue = [76711, 3266]'),\n",
       " Text(104.625, 27.180000000000007, 'gini = 0.026\\nsamples = 66409\\nvalue = [65519, 890]'),\n",
       " Text(146.475, 27.180000000000007, 'gini = 0.289\\nsamples = 13568\\nvalue = [11192, 2376]'),\n",
       " Text(251.10000000000002, 135.9, 'X[1] <= 15589.72\\ngini = 0.388\\nsamples = 98804\\nvalue = [26072, 72732]'),\n",
       " Text(209.25, 81.53999999999999, 'X[2] <= 34.5\\ngini = 0.287\\nsamples = 81638\\nvalue = [14193, 67445]'),\n",
       " Text(188.32500000000002, 27.180000000000007, 'gini = 0.457\\nsamples = 22734\\nvalue = [8023, 14711]'),\n",
       " Text(230.175, 27.180000000000007, 'gini = 0.188\\nsamples = 58904\\nvalue = [6170, 52734]'),\n",
       " Text(292.95, 81.53999999999999, 'X[2] <= 117.5\\ngini = 0.426\\nsamples = 17166\\nvalue = [11879, 5287]'),\n",
       " Text(272.02500000000003, 27.180000000000007, 'gini = 0.183\\nsamples = 10938\\nvalue = [9825, 1113]'),\n",
       " Text(313.875, 27.180000000000007, 'gini = 0.442\\nsamples = 6228\\nvalue = [2054, 4174]')]"
      ]
     },
     "execution_count": 30,
     "metadata": {},
     "output_type": "execute_result"
    },
    {
     "data": {
      "image/png": "[encoded data removed]",
      "text/plain": [
       "<Figure size 432x288 with 1 Axes>"
      ]
     },
     "metadata": {
      "needs_background": "light"
     },
     "output_type": "display_data"
    }
   ],
   "source": [
    "plot_tree(model, fontsize=7)"
   ]
  },
  {
   "cell_type": "markdown",
   "metadata": {},
   "source": [
    "Random Forest:"
   ]
  },
  {
   "cell_type": "code",
   "execution_count": 31,
   "metadata": {},
   "outputs": [
    {
     "name": "stdout",
     "output_type": "stream",
     "text": [
      "0.1248522850596889\n"
     ]
    }
   ],
   "source": [
    "xTrain, xTest, yTrain, yTest = train_test_split(df[['dienos_iki_ks_pabaigos',\n",
    "                                                'usd_goal_real', 'backers']],\n",
    "                                                df['state'], test_size=0.3, random_state=100)\n",
    "model = RandomForestClassifier(max_depth=3)\n",
    "model.fit(xTrain, yTrain)\n",
    "\n",
    "yPred = model.predict(xTest)\n",
    "conf_m = confusion_matrix(yTest, yPred)\n",
    "tikslumas = (conf_m[1, 0]+conf_m[0, 1])/(conf_m.sum())\n",
    "print(tikslumas)"
   ]
  },
  {
   "cell_type": "markdown",
   "metadata": {},
   "source": [
    "Funkcija, spėti ar projektas bus sėkmingas:"
   ]
  },
  {
   "cell_type": "code",
   "execution_count": 32,
   "metadata": {},
   "outputs": [],
   "source": [
    "def speti():\n",
    "    X = df[['dienos_iki_ks_pabaigos', 'usd_goal_real', 'backers']]\n",
    "    Y = df['state']\n",
    "    Log1 = LogisticRegression()\n",
    "    Log1.fit(X, Y)\n",
    "    t = input('Iveskite dienas iki projekto pabaigos: ')\n",
    "    t2 = int(t)\n",
    "    u = input('Iveskite reikalinga sukaupti pinigu suma: ')\n",
    "    u2 = int(u)\n",
    "    g = input('Iveskite reikalinga backers kieki: ')\n",
    "    g2 = int(g)\n",
    "    new = [[t2, u2, g2]]\n",
    "    out = Log1.predict(new)\n",
    "    return print('Dienos: ' + str(t2) + ', pinigu suma: ' + str(u2) + ', backers: ' +\n",
    "                 str(g2) + '. Projekto sekme: ' + str(out) + ' (1 - sekmingas, '\n",
    "                                                             '0 - ne).')"
   ]
  },
  {
   "cell_type": "markdown",
   "metadata": {},
   "source": [
    "Išbandom:"
   ]
  },
  {
   "cell_type": "code",
   "execution_count": 33,
   "metadata": {},
   "outputs": [
    {
     "name": "stdout",
     "output_type": "stream",
     "text": [
      "Iveskite dienas iki projekto pabaigos: 20\n",
      "Iveskite reikalinga sukaupti pinigu suma: 20000\n",
      "Iveskite reikalinga backers kieki: 30\n",
      "Dienos: 20, pinigu suma: 20000, backers: 30. Projekto sekme: ['0'] (1 - sekmingas, 0 - ne).\n"
     ]
    }
   ],
   "source": [
    "speti()"
   ]
  },
  {
   "cell_type": "markdown",
   "metadata": {},
   "source": [
    "### Išvados ir pastebėjimai:"
   ]
  },
  {
   "cell_type": "markdown",
   "metadata": {},
   "source": [
    "- iš visų 300,000+ projektų, daugiau nei pusė buvo nesėkmingi\n",
    "- nors populiariausia kategorija yra \"Film & Video\", tai nėra kategorija su brangiausiais projektais\n",
    "- didžioji dalis duomenų sukaupta iš Amerikos rinkos\n",
    "- didžioji dalis projektų tampa sėkmingi (arba ne) per 25-35 dienas\n",
    "- projektams aukojančių žmonių (backers) kiekis tiesiogiai susijęs su projektų (ne-)sėkme,\n",
    "todėl, kad nemažai projektų nesulaukė susidomėjimo (0 backers)\n",
    "- pašalinus projektus, kurie turėjo didžiulės įtakos duomenims, pastebėjome, kad daugumos projektų\n",
    "kaina neviršija net 35,000. Taip pat, jiems aukoja ne daugiau kaip 150 žmonių."
   ]
  }
 ],
 "metadata": {
  "kernelspec": {
   "display_name": "Python 3",
   "language": "python",
   "name": "python3"
  },
  "language_info": {
   "codemirror_mode": {
    "name": "ipython",
    "version": 3
   },
   "file_extension": ".py",
   "mimetype": "text/x-python",
   "name": "python",
   "nbconvert_exporter": "python",
   "pygments_lexer": "ipython3",
   "version": "3.8.6"
  }
 },
 "nbformat": 4,
 "nbformat_minor": 4
}
